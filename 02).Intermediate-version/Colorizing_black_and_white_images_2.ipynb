{
  "nbformat": 4,
  "nbformat_minor": 0,
  "metadata": {
    "colab": {
      "name": "Colorizing_black_and_white_images_2.ipynb",
      "provenance": []
    },
    "kernelspec": {
      "name": "python3",
      "display_name": "Python 3"
    }
  },
  "cells": [
    {
      "cell_type": "code",
      "metadata": {
        "id": "48Tbh_lfPVvj",
        "colab_type": "code",
        "outputId": "f95c75a7-a4d2-42ea-bc85-5368dcef860e",
        "colab": {
          "base_uri": "https://localhost:8080/",
          "height": 34
        }
      },
      "source": [
        "#importing the required moduels\n",
        "from keras.layers import Conv2D, Conv2DTranspose, UpSampling2D\n",
        "from keras.layers import Activation, Dense, Dropout, Flatten, InputLayer\n",
        "from keras.layers.normalization import BatchNormalization\n",
        "from keras.callbacks import TensorBoard\n",
        "from keras.models import Sequential\n",
        "from keras.preprocessing.image import ImageDataGenerator, array_to_img, img_to_array, load_img\n",
        "from skimage.color import rgb2lab, lab2rgb, rgb2gray\n",
        "from skimage.io import imsave\n",
        "import numpy as np\n",
        "import os\n",
        "import random\n",
        "import tensorflow as tf"
      ],
      "execution_count": 3,
      "outputs": [
        {
          "output_type": "stream",
          "text": [
            "Using TensorFlow backend.\n"
          ],
          "name": "stderr"
        }
      ]
    },
    {
      "cell_type": "code",
      "metadata": {
        "id": "BbVGLqwuQgDr",
        "colab_type": "code",
        "colab": {}
      },
      "source": [
        "#Getting image\n",
        "X = []\n",
        "for filename in os.listdir('Train/'):\n",
        "    X.append(img_to_array(load_img('Train/'+filename)))\n",
        "X = np.array(X, dtype=float)\n",
        "\n",
        "# Set up train and test data\n",
        "split = int(0.95*len(X))\n",
        "Xtrain = X[:split]\n",
        "Xtrain = 1.0/255*Xtrain"
      ],
      "execution_count": 0,
      "outputs": []
    },
    {
      "cell_type": "code",
      "metadata": {
        "id": "wwgtpBWhonkL",
        "colab_type": "code",
        "colab": {}
      },
      "source": [
        "model = Sequential()\n",
        "model.add(InputLayer(input_shape=(256, 256, 1)))\n",
        "model.add(Conv2D(64, (3, 3), activation='relu', padding='same'))\n",
        "model.add(Conv2D(64, (3, 3), activation='relu', padding='same', strides=2))\n",
        "model.add(Conv2D(128, (3, 3), activation='relu', padding='same'))\n",
        "model.add(Conv2D(128, (3, 3), activation='relu', padding='same', strides=2))\n",
        "model.add(Conv2D(256, (3, 3), activation='relu', padding='same'))\n",
        "model.add(Conv2D(256, (3, 3), activation='relu', padding='same', strides=2))\n",
        "model.add(Conv2D(512, (3, 3), activation='relu', padding='same'))\n",
        "model.add(Conv2D(256, (3, 3), activation='relu', padding='same'))\n",
        "model.add(Conv2D(128, (3, 3), activation='relu', padding='same'))\n",
        "model.add(UpSampling2D((2, 2)))\n",
        "model.add(Conv2D(64, (3, 3), activation='relu', padding='same'))\n",
        "model.add(UpSampling2D((2, 2)))\n",
        "model.add(Conv2D(32, (3, 3), activation='relu', padding='same'))\n",
        "model.add(Conv2D(2, (3, 3), activation='tanh', padding='same'))\n",
        "model.add(UpSampling2D((2, 2)))\n",
        "model.compile(optimizer='rmsprop', loss='mse')\n"
      ],
      "execution_count": 0,
      "outputs": []
    },
    {
      "cell_type": "code",
      "metadata": {
        "id": "On2pNclLoyBv",
        "colab_type": "code",
        "colab": {
          "base_uri": "https://localhost:8080/",
          "height": 67
        },
        "outputId": "3718e9bf-9ddc-467f-99fe-946e2acd6218"
      },
      "source": [
        "# Image transformer\n",
        "datagen = ImageDataGenerator(\n",
        "        shear_range=0.2,\n",
        "        zoom_range=0.2,\n",
        "        rotation_range=20,\n",
        "        horizontal_flip=True)\n",
        "\n",
        "# Generate training data\n",
        "batch_size = 10\n",
        "def image_a_b_gen(batch_size):\n",
        "    for batch in datagen.flow(Xtrain, batch_size=batch_size):\n",
        "        lab_batch = rgb2lab(batch)\n",
        "        X_batch = lab_batch[:,:,:,0]\n",
        "        Y_batch = lab_batch[:,:,:,1:] / 128\n",
        "        yield (X_batch.reshape(X_batch.shape+(1,)), Y_batch)\n",
        "\n",
        "# Train model      \n",
        "tensorboard = TensorBoard(log_dir=\"output/first_run\")\n",
        "model.fit_generator(image_a_b_gen(batch_size), callbacks=[tensorboard], epochs=1, steps_per_epoch=10)"
      ],
      "execution_count": 6,
      "outputs": [
        {
          "output_type": "stream",
          "text": [
            "Epoch 1/1\n",
            "10/10 [==============================] - 90s 9s/step - loss: 0.5792\n"
          ],
          "name": "stdout"
        },
        {
          "output_type": "execute_result",
          "data": {
            "text/plain": [
              "<keras.callbacks.callbacks.History at 0x7f47d0603ac8>"
            ]
          },
          "metadata": {
            "tags": []
          },
          "execution_count": 6
        }
      ]
    },
    {
      "cell_type": "code",
      "metadata": {
        "id": "zvXpF2j-qNK7",
        "colab_type": "code",
        "colab": {}
      },
      "source": [
        "#save model\n",
        "model_json = model.to_json()\n",
        "with open(\"model.json\", \"w\") as json_file:\n",
        "    json_file.write(model_json)\n",
        "model.save_weights(\"model.h5\")"
      ],
      "execution_count": 0,
      "outputs": []
    },
    {
      "cell_type": "code",
      "metadata": {
        "id": "E7W8JgbFqUcL",
        "colab_type": "code",
        "colab": {
          "base_uri": "https://localhost:8080/",
          "height": 50
        },
        "outputId": "d01f28a2-f501-40df-9fd0-f29607121fe7"
      },
      "source": [
        "# Test images\n",
        "Xtest = rgb2lab(1.0/255*X[split:])[:,:,:,0]\n",
        "Xtest = Xtest.reshape(Xtest.shape+(1,))\n",
        "Ytest = rgb2lab(1.0/255*X[split:])[:,:,:,1:]\n",
        "Ytest = Ytest / 128\n",
        "print(model.evaluate(Xtest, Ytest, batch_size=batch_size))"
      ],
      "execution_count": 8,
      "outputs": [
        {
          "output_type": "stream",
          "text": [
            "\r1/1 [==============================] - 0s 300ms/step\n",
            "0.005448479205369949\n"
          ],
          "name": "stdout"
        }
      ]
    },
    {
      "cell_type": "code",
      "metadata": {
        "id": "1KT59LQWrCCX",
        "colab_type": "code",
        "colab": {}
      },
      "source": [
        "color_me = []\n",
        "for filename in os.listdir('Test/'):\n",
        "    color_me.append(img_to_array(load_img('Test/'+filename)))\n",
        "color_me = np.array(color_me, dtype=float)\n",
        "color_me = rgb2lab(1.0/255*color_me)[:,:,:,0]\n",
        "color_me = color_me.reshape(color_me.shape+(1,))\n",
        "\n",
        "# Test model\n",
        "output = model.predict(color_me)\n",
        "output = output * 128\n",
        "\n",
        "# Output colorizations\n",
        "for i in range(len(output)):\n",
        "    cur = np.zeros((256, 256, 3))\n",
        "    cur[:,:,0] = color_me[i][:,:,0]\n",
        "    cur[:,:,1:] = output[i]\n",
        "    imsave(\"result/img_\"+str(i)+\".png\", lab2rgb(cur))"
      ],
      "execution_count": 0,
      "outputs": []
    }
  ]
}